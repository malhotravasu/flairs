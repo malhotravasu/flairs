{
 "cells": [
  {
   "cell_type": "code",
   "execution_count": 1,
   "metadata": {},
   "outputs": [
    {
     "data": {
      "text/html": [
       "<div>\n",
       "<style scoped>\n",
       "    .dataframe tbody tr th:only-of-type {\n",
       "        vertical-align: middle;\n",
       "    }\n",
       "\n",
       "    .dataframe tbody tr th {\n",
       "        vertical-align: top;\n",
       "    }\n",
       "\n",
       "    .dataframe thead th {\n",
       "        text-align: right;\n",
       "    }\n",
       "</style>\n",
       "<table border=\"1\" class=\"dataframe\">\n",
       "  <thead>\n",
       "    <tr style=\"text-align: right;\">\n",
       "      <th></th>\n",
       "      <th>url</th>\n",
       "      <th>title</th>\n",
       "      <th>body</th>\n",
       "      <th>comments</th>\n",
       "      <th>descriptor</th>\n",
       "      <th>flair</th>\n",
       "    </tr>\n",
       "    <tr>\n",
       "      <th>id</th>\n",
       "      <th></th>\n",
       "      <th></th>\n",
       "      <th></th>\n",
       "      <th></th>\n",
       "      <th></th>\n",
       "      <th></th>\n",
       "    </tr>\n",
       "  </thead>\n",
       "  <tbody>\n",
       "    <tr>\n",
       "      <th>g1zi21</th>\n",
       "      <td>https://www.reddit.com/r/india/comments/g1zi21...</td>\n",
       "      <td>Coronavirus (COVID-19) Megathread - News and U...</td>\n",
       "      <td>###[Covid-19 Fundraisers &amp; Donation Links](htt...</td>\n",
       "      <td>###[Covid-19 Fundraisers &amp; Donation Links](ht...</td>\n",
       "      <td>Coronavirus (COVID-19) Megathread - News and U...</td>\n",
       "      <td>Coronavirus</td>\n",
       "    </tr>\n",
       "    <tr>\n",
       "      <th>g4d2ix</th>\n",
       "      <td>https://www.reddit.com/r/india/comments/g4d2ix...</td>\n",
       "      <td>[Monthly Happiness Thread] Randians, please sh...</td>\n",
       "      <td>&lt;3         \\n          \\nLinks:               ...</td>\n",
       "      <td>Working from home since past one month. For s...</td>\n",
       "      <td>[Monthly Happiness Thread] Randians, please sh...</td>\n",
       "      <td>Other</td>\n",
       "    </tr>\n",
       "    <tr>\n",
       "      <th>g79auq</th>\n",
       "      <td>https://i.redd.it/5b2bepewzru41.jpg</td>\n",
       "      <td>Greetings from Saudi Arabia. During this lock ...</td>\n",
       "      <td></td>\n",
       "      <td>Not much of a expert in this, but looks good!...</td>\n",
       "      <td>Greetings from Saudi Arabia. During this lock ...</td>\n",
       "      <td>Other</td>\n",
       "    </tr>\n",
       "    <tr>\n",
       "      <th>g7b3un</th>\n",
       "      <td>https://www.reddit.com/r/india/comments/g7b3un...</td>\n",
       "      <td>Covid19 hit me. I just got fired.</td>\n",
       "      <td>Just one call. We are having trouble with mone...</td>\n",
       "      <td>If you were doing good for yourself it wont b...</td>\n",
       "      <td>Covid19 hit me. I just got fired. Just one cal...</td>\n",
       "      <td>Coronavirus</td>\n",
       "    </tr>\n",
       "    <tr>\n",
       "      <th>g77k1z</th>\n",
       "      <td>https://www.ndtv.com/india-news/coronavirus-pm...</td>\n",
       "      <td>PM CARES fund won’t be checked by government’s...</td>\n",
       "      <td></td>\n",
       "      <td>No transparency at all from a government whic...</td>\n",
       "      <td>PM CARES fund won’t be checked by government’s...</td>\n",
       "      <td>Politics</td>\n",
       "    </tr>\n",
       "  </tbody>\n",
       "</table>\n",
       "</div>"
      ],
      "text/plain": [
       "                                                      url  \\\n",
       "id                                                          \n",
       "g1zi21  https://www.reddit.com/r/india/comments/g1zi21...   \n",
       "g4d2ix  https://www.reddit.com/r/india/comments/g4d2ix...   \n",
       "g79auq                https://i.redd.it/5b2bepewzru41.jpg   \n",
       "g7b3un  https://www.reddit.com/r/india/comments/g7b3un...   \n",
       "g77k1z  https://www.ndtv.com/india-news/coronavirus-pm...   \n",
       "\n",
       "                                                    title  \\\n",
       "id                                                          \n",
       "g1zi21  Coronavirus (COVID-19) Megathread - News and U...   \n",
       "g4d2ix  [Monthly Happiness Thread] Randians, please sh...   \n",
       "g79auq  Greetings from Saudi Arabia. During this lock ...   \n",
       "g7b3un                  Covid19 hit me. I just got fired.   \n",
       "g77k1z  PM CARES fund won’t be checked by government’s...   \n",
       "\n",
       "                                                     body  \\\n",
       "id                                                          \n",
       "g1zi21  ###[Covid-19 Fundraisers & Donation Links](htt...   \n",
       "g4d2ix  <3         \\n          \\nLinks:               ...   \n",
       "g79auq                                                      \n",
       "g7b3un  Just one call. We are having trouble with mone...   \n",
       "g77k1z                                                      \n",
       "\n",
       "                                                 comments  \\\n",
       "id                                                          \n",
       "g1zi21   ###[Covid-19 Fundraisers & Donation Links](ht...   \n",
       "g4d2ix   Working from home since past one month. For s...   \n",
       "g79auq   Not much of a expert in this, but looks good!...   \n",
       "g7b3un   If you were doing good for yourself it wont b...   \n",
       "g77k1z   No transparency at all from a government whic...   \n",
       "\n",
       "                                               descriptor        flair  \n",
       "id                                                                      \n",
       "g1zi21  Coronavirus (COVID-19) Megathread - News and U...  Coronavirus  \n",
       "g4d2ix  [Monthly Happiness Thread] Randians, please sh...        Other  \n",
       "g79auq  Greetings from Saudi Arabia. During this lock ...        Other  \n",
       "g7b3un  Covid19 hit me. I just got fired. Just one cal...  Coronavirus  \n",
       "g77k1z  PM CARES fund won’t be checked by government’s...     Politics  "
      ]
     },
     "execution_count": 1,
     "metadata": {},
     "output_type": "execute_result"
    }
   ],
   "source": [
    "import numpy as np\n",
    "import pandas as pd\n",
    "\n",
    "import matplotlib.pyplot as plt\n",
    "plt.rcParams['figure.figsize'] = (14, 6)\n",
    "\n",
    "import pickle\n",
    "\n",
    "from utils import *\n",
    "\n",
    "data = load_csv()\n",
    "data.head()"
   ]
  },
  {
   "cell_type": "code",
   "execution_count": 2,
   "metadata": {},
   "outputs": [
    {
     "data": {
      "text/plain": [
       "{'Non-Political': 576,\n",
       " 'Politics': 471,\n",
       " 'Coronavirus': 393,\n",
       " 'Other': 204,\n",
       " 'AskIndia': 157,\n",
       " 'Policy/Economy': 92,\n",
       " 'Business/Finance': 70,\n",
       " 'Photography': 55}"
      ]
     },
     "execution_count": 2,
     "metadata": {},
     "output_type": "execute_result"
    }
   ],
   "source": [
    "dict(data['flair'].value_counts())"
   ]
  },
  {
   "cell_type": "code",
   "execution_count": 3,
   "metadata": {},
   "outputs": [
    {
     "data": {
      "image/png": "[encoded data removed]",
      "text/plain": [
       "<Figure size 1008x432 with 1 Axes>"
      ]
     },
     "metadata": {
      "needs_background": "light"
     },
     "output_type": "display_data"
    }
   ],
   "source": [
    "classes = [(x, v) for (x, v) in dict(data['flair'].value_counts()).items()]\n",
    "plt.bar([x for (x, v) in classes], [v for (x, v) in classes])\n",
    "plt.grid(True)\n",
    "plt.show()"
   ]
  }
 ],
 "metadata": {
  "kernelspec": {
   "display_name": "Python 3",
   "language": "python",
   "name": "python3"
  },
  "language_info": {
   "codemirror_mode": {
    "name": "ipython",
    "version": 3
   },
   "file_extension": ".py",
   "mimetype": "text/x-python",
   "name": "python",
   "nbconvert_exporter": "python",
   "pygments_lexer": "ipython3",
   "version": "3.6.10"
  }
 },
 "nbformat": 4,
 "nbformat_minor": 4
}
