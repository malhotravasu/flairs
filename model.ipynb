{
 "cells": [
  {
   "cell_type": "code",
   "execution_count": 1,
   "metadata": {},
   "outputs": [
    {
     "data": {
      "text/html": [
       "<div>\n",
       "<style scoped>\n",
       "    .dataframe tbody tr th:only-of-type {\n",
       "        vertical-align: middle;\n",
       "    }\n",
       "\n",
       "    .dataframe tbody tr th {\n",
       "        vertical-align: top;\n",
       "    }\n",
       "\n",
       "    .dataframe thead th {\n",
       "        text-align: right;\n",
       "    }\n",
       "</style>\n",
       "<table border=\"1\" class=\"dataframe\">\n",
       "  <thead>\n",
       "    <tr style=\"text-align: right;\">\n",
       "      <th></th>\n",
       "      <th>url</th>\n",
       "      <th>title</th>\n",
       "      <th>body</th>\n",
       "      <th>comments</th>\n",
       "      <th>descriptor</th>\n",
       "      <th>flair</th>\n",
       "    </tr>\n",
       "    <tr>\n",
       "      <th>id</th>\n",
       "      <th></th>\n",
       "      <th></th>\n",
       "      <th></th>\n",
       "      <th></th>\n",
       "      <th></th>\n",
       "      <th></th>\n",
       "    </tr>\n",
       "  </thead>\n",
       "  <tbody>\n",
       "    <tr>\n",
       "      <th>g1zi21</th>\n",
       "      <td>https://www.reddit.com/r/india/comments/g1zi21...</td>\n",
       "      <td>Coronavirus (COVID-19) Megathread - News and U...</td>\n",
       "      <td>###[Covid-19 Fundraisers &amp; Donation Links](htt...</td>\n",
       "      <td>###[Covid-19 Fundraisers &amp; Donation Links](ht...</td>\n",
       "      <td>Coronavirus (COVID-19) Megathread - News and U...</td>\n",
       "      <td>Coronavirus</td>\n",
       "    </tr>\n",
       "    <tr>\n",
       "      <th>g4d2ix</th>\n",
       "      <td>https://www.reddit.com/r/india/comments/g4d2ix...</td>\n",
       "      <td>[Monthly Happiness Thread] Randians, please sh...</td>\n",
       "      <td>&lt;3         \\n          \\nLinks:               ...</td>\n",
       "      <td>Working from home since past one month. For s...</td>\n",
       "      <td>[Monthly Happiness Thread] Randians, please sh...</td>\n",
       "      <td>Other</td>\n",
       "    </tr>\n",
       "    <tr>\n",
       "      <th>g79auq</th>\n",
       "      <td>https://i.redd.it/5b2bepewzru41.jpg</td>\n",
       "      <td>Greetings from Saudi Arabia. During this lock ...</td>\n",
       "      <td></td>\n",
       "      <td>Not much of a expert in this, but looks good!...</td>\n",
       "      <td>Greetings from Saudi Arabia. During this lock ...</td>\n",
       "      <td>Food</td>\n",
       "    </tr>\n",
       "    <tr>\n",
       "      <th>g7b3un</th>\n",
       "      <td>https://www.reddit.com/r/india/comments/g7b3un...</td>\n",
       "      <td>Covid19 hit me. I just got fired.</td>\n",
       "      <td>Just one call. We are having trouble with mone...</td>\n",
       "      <td>If you were doing good for yourself it wont b...</td>\n",
       "      <td>Covid19 hit me. I just got fired. Just one cal...</td>\n",
       "      <td>Coronavirus</td>\n",
       "    </tr>\n",
       "    <tr>\n",
       "      <th>g77k1z</th>\n",
       "      <td>https://www.ndtv.com/india-news/coronavirus-pm...</td>\n",
       "      <td>PM CARES fund won’t be checked by government’s...</td>\n",
       "      <td></td>\n",
       "      <td>No transparency at all from a government whic...</td>\n",
       "      <td>PM CARES fund won’t be checked by government’s...</td>\n",
       "      <td>Politics</td>\n",
       "    </tr>\n",
       "  </tbody>\n",
       "</table>\n",
       "</div>"
      ],
      "text/plain": [
       "                                                      url  \\\n",
       "id                                                          \n",
       "g1zi21  https://www.reddit.com/r/india/comments/g1zi21...   \n",
       "g4d2ix  https://www.reddit.com/r/india/comments/g4d2ix...   \n",
       "g79auq                https://i.redd.it/5b2bepewzru41.jpg   \n",
       "g7b3un  https://www.reddit.com/r/india/comments/g7b3un...   \n",
       "g77k1z  https://www.ndtv.com/india-news/coronavirus-pm...   \n",
       "\n",
       "                                                    title  \\\n",
       "id                                                          \n",
       "g1zi21  Coronavirus (COVID-19) Megathread - News and U...   \n",
       "g4d2ix  [Monthly Happiness Thread] Randians, please sh...   \n",
       "g79auq  Greetings from Saudi Arabia. During this lock ...   \n",
       "g7b3un                  Covid19 hit me. I just got fired.   \n",
       "g77k1z  PM CARES fund won’t be checked by government’s...   \n",
       "\n",
       "                                                     body  \\\n",
       "id                                                          \n",
       "g1zi21  ###[Covid-19 Fundraisers & Donation Links](htt...   \n",
       "g4d2ix  <3         \\n          \\nLinks:               ...   \n",
       "g79auq                                                      \n",
       "g7b3un  Just one call. We are having trouble with mone...   \n",
       "g77k1z                                                      \n",
       "\n",
       "                                                 comments  \\\n",
       "id                                                          \n",
       "g1zi21   ###[Covid-19 Fundraisers & Donation Links](ht...   \n",
       "g4d2ix   Working from home since past one month. For s...   \n",
       "g79auq   Not much of a expert in this, but looks good!...   \n",
       "g7b3un   If you were doing good for yourself it wont b...   \n",
       "g77k1z   No transparency at all from a government whic...   \n",
       "\n",
       "                                               descriptor        flair  \n",
       "id                                                                      \n",
       "g1zi21  Coronavirus (COVID-19) Megathread - News and U...  Coronavirus  \n",
       "g4d2ix  [Monthly Happiness Thread] Randians, please sh...        Other  \n",
       "g79auq  Greetings from Saudi Arabia. During this lock ...         Food  \n",
       "g7b3un  Covid19 hit me. I just got fired. Just one cal...  Coronavirus  \n",
       "g77k1z  PM CARES fund won’t be checked by government’s...     Politics  "
      ]
     },
     "execution_count": 1,
     "metadata": {},
     "output_type": "execute_result"
    }
   ],
   "source": [
    "import numpy as np\n",
    "import pandas as pd\n",
    "import pickle\n",
    "\n",
    "from gensim.models.doc2vec import Doc2Vec\n",
    "from gensim.models.doc2vec import TaggedDocument\n",
    "\n",
    "from sklearn.model_selection import train_test_split\n",
    "from sklearn.linear_model import LogisticRegression\n",
    "from sklearn.metrics import accuracy_score\n",
    "\n",
    "from utils import *\n",
    "\n",
    "data = load_csv()\n",
    "data.head()"
   ]
  },
  {
   "cell_type": "code",
   "execution_count": 2,
   "metadata": {},
   "outputs": [
    {
     "name": "stdout",
     "output_type": "stream",
     "text": [
      "Before processsing:  Coronavirus (COVID-19) Megathread - News and Updates - 4 ###[Covid-19 Fundraiser\n",
      "After processsing:  ['coronavirus', 'covid', 'megathread', 'news', 'and', 'updates', 'covid', 'fundraisers']\n"
     ]
    }
   ],
   "source": [
    "processed = preprocess_docs(data['descriptor'])\n",
    "print('Before processsing: ', data['descriptor'][0][:80])\n",
    "print('After processsing: ', processed[0][:8])"
   ]
  },
  {
   "cell_type": "code",
   "execution_count": 3,
   "metadata": {},
   "outputs": [
    {
     "name": "stdout",
     "output_type": "stream",
     "text": [
      "(2962, 150)\n"
     ]
    }
   ],
   "source": [
    "corpus = [TaggedDocument(tokens, [i]) for (i, tokens) in enumerate(processed)]\n",
    "\n",
    "embedding_model = Doc2Vec(\n",
    "    corpus,\n",
    "    vector_size=EMBEDDING_SIZE,\n",
    "    min_count=1,\n",
    "    workers=4\n",
    ")\n",
    "\n",
    "embedding_model.train(corpus, total_examples=len(corpus), epochs=100)\n",
    "embedding_model.save('models/embedding_model.pkl')\n",
    "\n",
    "embeddings = docs_into_vectors(processed, embedding_model)\n",
    "print(embeddings.shape)"
   ]
  },
  {
   "cell_type": "code",
   "execution_count": 4,
   "metadata": {},
   "outputs": [],
   "source": [
    "labels = data['flair']"
   ]
  },
  {
   "cell_type": "code",
   "execution_count": 5,
   "metadata": {},
   "outputs": [],
   "source": [
    "x_train, x_test, y_train, y_test = train_test_split(\n",
    "    embeddings, labels,\n",
    "    test_size=0.2,\n",
    "    stratify=labels,\n",
    "    random_state=7\n",
    ")"
   ]
  },
  {
   "cell_type": "code",
   "execution_count": 8,
   "metadata": {},
   "outputs": [
    {
     "name": "stdout",
     "output_type": "stream",
     "text": [
      "Train Accuracy: 0.6133389615871676\n",
      "Val Accuracy: 0.5868465430016864\n"
     ]
    }
   ],
   "source": [
    "model = LogisticRegression(\n",
    "    C=0.1,\n",
    "    max_iter=500,\n",
    "    n_jobs=-1\n",
    ")\n",
    "\n",
    "model.fit(x_train, y_train)\n",
    "\n",
    "with open('models/classification_model.pkl', 'wb') as handle:\n",
    "    pickle.dump(model, handle)\n",
    "\n",
    "print('Train Accuracy:', accuracy_score(y_train, model.predict(x_train)))\n",
    "print('Val Accuracy:', accuracy_score(y_test, model.predict(x_test)))"
   ]
  },
  {
   "cell_type": "code",
   "execution_count": 9,
   "metadata": {},
   "outputs": [
    {
     "name": "stdout",
     "output_type": "stream",
     "text": [
      "Val Accuracy: 0.5868465430016864\n"
     ]
    }
   ],
   "source": [
    "# Sanity check\n",
    "with open('models/classification_model.pkl', 'rb') as handle:\n",
    "    model = pickle.load(handle)\n",
    "\n",
    "print('Val Accuracy:', accuracy_score(y_test, model.predict(x_test)))\n",
    "\n",
    "embedding_model = Doc2Vec.load('models/embedding_model.pkl')\n",
    "sample_doc = ['hi', 'i', 'am', 'vasu'] # Includes out-of-vocab words\n",
    "assert doc_into_vector(sample_doc, embedding_model).shape[0] == EMBEDDING_SIZE"
   ]
  }
 ],
 "metadata": {
  "kernelspec": {
   "display_name": "Python 3",
   "language": "python",
   "name": "python3"
  },
  "language_info": {
   "codemirror_mode": {
    "name": "ipython",
    "version": 3
   },
   "file_extension": ".py",
   "mimetype": "text/x-python",
   "name": "python",
   "nbconvert_exporter": "python",
   "pygments_lexer": "ipython3",
   "version": "3.7.6"
  }
 },
 "nbformat": 4,
 "nbformat_minor": 4
}
