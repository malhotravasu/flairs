{
 "cells": [
  {
   "cell_type": "code",
   "execution_count": 1,
   "metadata": {},
   "outputs": [],
   "source": [
    "import numpy as np\n",
    "import pandas as pd\n",
    "\n",
    "import praw\n",
    "\n",
    "import pickle\n",
    "import os.path\n",
    "\n",
    "from creds import *\n",
    "\n",
    "reddit = praw.Reddit(\n",
    "    client_id=CLIENT_ID,\n",
    "    client_secret=CLIENT_SECRET,\n",
    "    user_agent=USER_AGENT\n",
    ")\n",
    "\n",
    "from utils import expand_data"
   ]
  },
  {
   "cell_type": "code",
   "execution_count": 2,
   "metadata": {
    "scrolled": true
   },
   "outputs": [
    {
     "name": "stdout",
     "output_type": "stream",
     "text": [
      "Name: india\n",
      "Title: India: United We Stand\n"
     ]
    }
   ],
   "source": [
    "india = reddit.subreddit('india')\n",
    "\n",
    "print('Name:', india.display_name)\n",
    "print('Title:', india.title)"
   ]
  },
  {
   "cell_type": "code",
   "execution_count": 3,
   "metadata": {},
   "outputs": [],
   "source": [
    "if not os.path.exists('data/data.pkl'): \n",
    "    posts = {}\n",
    "    with open('data/data.pkl', 'wb') as handle:\n",
    "        pickle.dump(posts, handle)"
   ]
  },
  {
   "cell_type": "code",
   "execution_count": 4,
   "metadata": {
    "scrolled": true
   },
   "outputs": [
    {
     "name": "stdout",
     "output_type": "stream",
     "text": [
      "Previously: 2953\n",
      "Now: 2962\n"
     ]
    }
   ],
   "source": [
    "limit = 1000\n",
    "sections = [india.hot(limit=limit), india.top(limit=limit), india.rising(limit=limit), india.new(limit=limit)]\n",
    "expand_data(sections)"
   ]
  }
 ],
 "metadata": {
  "kernelspec": {
   "display_name": "Python 3",
   "language": "python",
   "name": "python3"
  },
  "language_info": {
   "codemirror_mode": {
    "name": "ipython",
    "version": 3
   },
   "file_extension": ".py",
   "mimetype": "text/x-python",
   "name": "python",
   "nbconvert_exporter": "python",
   "pygments_lexer": "ipython3",
   "version": "3.7.6"
  }
 },
 "nbformat": 4,
 "nbformat_minor": 4
}
